{
 "cells": [
  {
   "cell_type": "code",
   "execution_count": null,
   "id": "267255c9",
   "metadata": {
    "vscode": {
     "languageId": "plaintext"
    }
   },
   "outputs": [],
   "source": [
    "# markdown\n",
    "write your own MD content from 'slide 49'."
   ]
  },
  {
   "cell_type": "code",
   "execution_count": null,
   "id": "4f3ee4cd",
   "metadata": {
    "vscode": {
     "languageId": "plaintext"
    }
   },
   "outputs": [],
   "source": [
    "# 1. Hello Python\n",
    "name = \"Marjan\"\n",
    "goals = ['learn ML', 'learn DL', 'deeply learn DL']\n",
    "\n",
    "print('Hello,\", name, \"!\")\n",
    "print('Hello,\"+ name + \"!\")\n",
    "\n",
    "# for(1 starting point; 2 end condition; 4 next step;) {3 executing code;}\n",
    "for g in goals:\n",
    "      print('-\", g)\n",
    "\n",
    "# if - elif - else\n",
    "if \"learn ML\" in goals:\n",
    "   print(\"let's learn ML!\")"
   ]
  }
 ],
 "metadata": {
  "language_info": {
   "name": "python"
  }
 },
 "nbformat": 4,
 "nbformat_minor": 5
}
